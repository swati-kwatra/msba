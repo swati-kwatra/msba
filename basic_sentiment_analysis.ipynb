{
 "cells": [
  {
   "cell_type": "markdown",
   "metadata": {},
   "source": [
    "# Do people want a border wall?"
   ]
  },
  {
   "cell_type": "markdown",
   "metadata": {},
   "source": [
    "The purpose of this exercise is to analyze the sentiment around the contentious issue of 'Border wall'. The analysis was performed by giving a score to each tweet followed by categorizing the tweets as \"positive\", \"negative\" or \"neutral\" on the basis of this score. The score for each tweet is calculated by looking up each word in the tweet against a list of positive and negative words, followed by assigning a +1 for every positive and -1 for every negative word in that tweet.\n",
    "\n",
    "Following are the files that were used in this analysis:\n",
    "\n",
    "1. 'positive-words.txt' - downloaded from https://www.cs.uic.edu/~liub/FBS/sentiment-analysis.html\n",
    "   (Please note that the word 'trump' has been removed from the positive-words.txt, since it is not relevant as   positive word for the purpose of this analysis. Here, it is a proper noun, and hence is treated as a neutral word.\n",
    "   \n",
    "2. 'negative words.txt' - downloaded from https://www.cs.uic.edu/~liub/FBS/sentiment-analysis.html\n",
    "3. 'borderwall.txt' - contains 16644 tweets downloaded from Twitter"
   ]
  },
  {
   "cell_type": "code",
   "execution_count": 174,
   "metadata": {},
   "outputs": [],
   "source": [
    "#  Open positive-words file and store all the words in a set. Since, positive words is a collection of unique elements,\n",
    "#  set is used here as a data structure. \n",
    "\n",
    "p = open (\"positive-words.txt\", \"r\") \n",
    "positiveWords = set()\n",
    "for line in p:\n",
    "    #strip new line from each word before adding to the set.\n",
    "    positiveWords.add(line.rstrip(\"\\n\")) \n"
   ]
  },
  {
   "cell_type": "code",
   "execution_count": 175,
   "metadata": {},
   "outputs": [],
   "source": [
    "#  Open neagtive words file and store all the words in a set.\n",
    "n = open (\"negative words.txt\", \"r\")\n",
    "negativeWords = set()\n",
    "for line in n:\n",
    "    #strip new line from each word before adding to the set.\n",
    "    negativeWords.add(line.rstrip(\"\\n\"))"
   ]
  },
  {
   "cell_type": "code",
   "execution_count": 176,
   "metadata": {},
   "outputs": [],
   "source": [
    "# Open the text file containing tweets in read mode.\n",
    "f = open(\"/Users/swati.kwatra/Desktop/Python/HW1/borderwall.txt\", \"r\")"
   ]
  },
  {
   "cell_type": "code",
   "execution_count": 177,
   "metadata": {},
   "outputs": [],
   "source": [
    "positive = 0 \n",
    "negative = 0\n",
    "neutral = 0\n",
    "scoreDict = dict()\n",
    "for line in f: \n",
    "    score = 0 \n",
    "    # Replace special characters with spaces, convert to lower case and split line into words.\n",
    "    words = line.replace(\"#\",\" \").replace(\"@\",\" \").replace(\"!\",\" \").replace(\";\",\" \").replace(\":\",\" \").replace(\",\",\" \").replace(\".\",\" \").replace(\"\\\\\",\"\").lower().split() \n",
    "    # Assign score to each word in the line.\n",
    "    for w in words:\n",
    "        # Clean words by stripping special characters.\n",
    "        stripped = w.strip(\"\\\"''“”’)(?\")\n",
    "        if stripped in positiveWords:\n",
    "            score = score + 1\n",
    "        if stripped in negativeWords:\n",
    "            score = score - 1\n",
    "    # Update frequency of score.\n",
    "    if score in scoreDict:\n",
    "        scoreDict[score] += 1\n",
    "    else:\n",
    "        scoreDict[score] = 1\n",
    "    # Categorize tweets as positive,negative and neutral on the basis of score.\n",
    "    if score == 0: \n",
    "        neutral = neutral + 1\n",
    "    elif score > 0:\n",
    "        positive = positive + 1\n",
    "    else:\n",
    "        negative = negative + 1"
   ]
  },
  {
   "cell_type": "code",
   "execution_count": 178,
   "metadata": {},
   "outputs": [
    {
     "name": "stdout",
     "output_type": "stream",
     "text": [
      "Score: 0 , Frequency: 5598\n",
      "Score: 2 , Frequency: 550\n",
      "Score: 1 , Frequency: 1380\n",
      "Score: -1 , Frequency: 8176\n",
      "Score: -2 , Frequency: 598\n",
      "Score: 4 , Frequency: 180\n",
      "Score: -3 , Frequency: 162\n"
     ]
    }
   ],
   "source": [
    "# Print frequency of each score.\n",
    "for k,v in scoreDict.items():\n",
    "    print(\"Score:\", k, \", Frequency:\", v)"
   ]
  },
  {
   "cell_type": "code",
   "execution_count": 179,
   "metadata": {},
   "outputs": [
    {
     "name": "stdout",
     "output_type": "stream",
     "text": [
      "Positive: 2110 Negative: 8936 Neutral: 5598\n"
     ]
    }
   ],
   "source": [
    "# Print count of tweets in each category.\n",
    "print(\"Positive:\", positive, \"Negative:\", negative, \"Neutral:\", neutral)"
   ]
  },
  {
   "cell_type": "code",
   "execution_count": 187,
   "metadata": {},
   "outputs": [
    {
     "name": "stdout",
     "output_type": "stream",
     "text": [
      "Positive: 12.68% Negative: 53.69% Neutral: 33.63%\n"
     ]
    }
   ],
   "source": [
    "# Print percentage of tweets in each category.\n",
    "total = positive+neutral+negative\n",
    "print(\"Positive: %0.2f%% Negative: %0.2f%% Neutral: %0.2f%%\" % (positive*100/total, negative*100/total,neutral*100/total))"
   ]
  },
  {
   "cell_type": "markdown",
   "metadata": {},
   "source": [
    "Since more than 50% of the tweets are categorized as negative, we can infer that sentiment around border wall is mostly negative. Also, there are slightly over 4 negative tweets for every positive tweet, so we can say that the sentiment is strongly negative."
   ]
  },
  {
   "cell_type": "code",
   "execution_count": null,
   "metadata": {},
   "outputs": [],
   "source": []
  },
  {
   "cell_type": "code",
   "execution_count": null,
   "metadata": {},
   "outputs": [],
   "source": []
  }
 ],
 "metadata": {
  "kernelspec": {
   "display_name": "Python 3",
   "language": "python",
   "name": "python3"
  },
  "language_info": {
   "codemirror_mode": {
    "name": "ipython",
    "version": 3
   },
   "file_extension": ".py",
   "mimetype": "text/x-python",
   "name": "python",
   "nbconvert_exporter": "python",
   "pygments_lexer": "ipython3",
   "version": "3.7.1"
  }
 },
 "nbformat": 4,
 "nbformat_minor": 2
}
